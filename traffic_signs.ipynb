{
 "cells": [
  {
   "cell_type": "markdown",
   "metadata": {},
   "source": [
    "# Importing the libraries"
   ]
  },
  {
   "cell_type": "code",
   "execution_count": 1,
   "metadata": {},
   "outputs": [],
   "source": [
    "import numpy as np \n",
    "import pandas as pd \n",
    "import matplotlib.pyplot as plt\n",
    "import cv2\n",
    "import tensorflow as tf\n",
    "from PIL import Image\n",
    "import os\n",
    "from sklearn.model_selection import train_test_split\n",
    "from keras.utils import to_categorical\n",
    "from keras.models import Sequential, load_model\n",
    "from keras.layers import Conv2D, MaxPool2D, Dense, Flatten, Dropout"
   ]
  },
  {
   "cell_type": "code",
   "execution_count": 2,
   "metadata": {},
   "outputs": [
    {
     "name": "stdout",
     "output_type": "stream",
     "text": [
      "C:\\Users\\Hp\\Desktop\\Traffic-Sign-Classification-Project\n"
     ]
    }
   ],
   "source": [
    "data=[]\n",
    "labels=[]\n",
    "classes=43\n",
    "cur_path=os.getcwd()\n",
    "print(cur_path)"
   ]
  },
  {
   "cell_type": "code",
   "execution_count": 3,
   "metadata": {},
   "outputs": [],
   "source": [
    "for i in range(classes):\n",
    "    path = os.path.join(cur_path,'train',str(i))\n",
    "    images = os.listdir(path)\n",
    "    for a in images:\n",
    "        try:\n",
    "            image = Image.open(path + '\\\\'+ a)\n",
    "            image = image.resize((30,30))\n",
    "            image = np.array(image)\n",
    "            data.append(image)\n",
    "            labels.append(i)\n",
    "        except:\n",
    "            print(\"Error loading image\")\n",
    "\n",
    "data = np.array(data)\n",
    "labels = np.array(labels)"
   ]
  },
  {
   "cell_type": "markdown",
   "metadata": {},
   "source": [
    "# Splitting the dataset into training and test sets "
   ]
  },
  {
   "cell_type": "code",
   "execution_count": 5,
   "metadata": {},
   "outputs": [
    {
     "name": "stdout",
     "output_type": "stream",
     "text": [
      "(31367, 30, 30, 3) (7842, 30, 30, 3) (31367,) (7842,)\n"
     ]
    }
   ],
   "source": [
    "X_train, X_test, y_train, y_test = train_test_split(data, labels, test_size=0.2, random_state=42)\n",
    "print(X_train.shape, X_test.shape, y_train.shape, y_test.shape)"
   ]
  },
  {
   "cell_type": "markdown",
   "metadata": {},
   "source": [
    "## One Hot encoding the labels"
   ]
  },
  {
   "cell_type": "code",
   "execution_count": 6,
   "metadata": {},
   "outputs": [],
   "source": [
    "y_train = to_categorical(y_train, 43)\n",
    "y_test = to_categorical(y_test, 43)"
   ]
  },
  {
   "cell_type": "markdown",
   "metadata": {},
   "source": [
    "# Building the CNN model"
   ]
  },
  {
   "cell_type": "code",
   "execution_count": 8,
   "metadata": {},
   "outputs": [],
   "source": [
    "cnn=Sequential()\n",
    "cnn.add(Conv2D(filters=32,kernel_size=(5,5),activation='relu',input_shape=X_train.shape[1:]))\n",
    "cnn.add(Conv2D(filters=32,kernel_size=(5,5),activation='relu'))\n",
    "cnn.add(MaxPool2D(pool_size=(2, 2)))\n",
    "cnn.add(Dropout(rate=0.25))\n",
    "cnn.add(Conv2D(filters=64, kernel_size=(3, 3), activation='relu'))\n",
    "cnn.add(Conv2D(filters=64, kernel_size=(3, 3), activation='relu'))\n",
    "cnn.add(MaxPool2D(pool_size=(2, 2)))\n",
    "cnn.add(Dropout(rate=0.25))\n",
    "cnn.add(Flatten())\n",
    "cnn.add(Dense(256, activation='relu'))\n",
    "cnn.add(Dropout(rate=0.5))\n",
    "cnn.add(Dense(43, activation='softmax'))"
   ]
  },
  {
   "cell_type": "markdown",
   "metadata": {},
   "source": [
    "## Compiling the model"
   ]
  },
  {
   "cell_type": "code",
   "execution_count": 9,
   "metadata": {},
   "outputs": [],
   "source": [
    "cnn.compile(loss='categorical_crossentropy', optimizer='adam', metrics=['accuracy'])"
   ]
  },
  {
   "cell_type": "markdown",
   "metadata": {},
   "source": [
    "## Training and Validating the model"
   ]
  },
  {
   "cell_type": "code",
   "execution_count": 11,
   "metadata": {},
   "outputs": [
    {
     "name": "stdout",
     "output_type": "stream",
     "text": [
      "Epoch 1/15\n",
      "981/981 [==============================] - 117s 117ms/step - loss: 3.3664 - accuracy: 0.2704 - val_loss: 0.6127 - val_accuracy: 0.8546\n",
      "Epoch 2/15\n",
      "981/981 [==============================] - 105s 107ms/step - loss: 0.9209 - accuracy: 0.7256 - val_loss: 0.2984 - val_accuracy: 0.9198\n",
      "Epoch 3/15\n",
      "981/981 [==============================] - 105s 107ms/step - loss: 0.5305 - accuracy: 0.8397 - val_loss: 0.2152 - val_accuracy: 0.9403\n",
      "Epoch 4/15\n",
      "981/981 [==============================] - 105s 107ms/step - loss: 0.4289 - accuracy: 0.8731 - val_loss: 0.1360 - val_accuracy: 0.9653\n",
      "Epoch 5/15\n",
      "981/981 [==============================] - 104s 106ms/step - loss: 0.3786 - accuracy: 0.8882 - val_loss: 0.1266 - val_accuracy: 0.9637\n",
      "Epoch 6/15\n",
      "981/981 [==============================] - 104s 106ms/step - loss: 0.3379 - accuracy: 0.9000 - val_loss: 0.0834 - val_accuracy: 0.9788\n",
      "Epoch 7/15\n",
      "981/981 [==============================] - 105s 107ms/step - loss: 0.2834 - accuracy: 0.9148 - val_loss: 0.0975 - val_accuracy: 0.9731\n",
      "Epoch 8/15\n",
      "981/981 [==============================] - 105s 107ms/step - loss: 0.3008 - accuracy: 0.9124 - val_loss: 0.0822 - val_accuracy: 0.9795\n",
      "Epoch 9/15\n",
      "981/981 [==============================] - 105s 107ms/step - loss: 0.2344 - accuracy: 0.9315 - val_loss: 0.0833 - val_accuracy: 0.9779\n",
      "Epoch 10/15\n",
      "981/981 [==============================] - 105s 108ms/step - loss: 0.2332 - accuracy: 0.9328 - val_loss: 0.0615 - val_accuracy: 0.9833\n",
      "Epoch 11/15\n",
      "981/981 [==============================] - 109s 111ms/step - loss: 0.2415 - accuracy: 0.9312 - val_loss: 0.0987 - val_accuracy: 0.9717\n",
      "Epoch 12/15\n",
      "981/981 [==============================] - 110s 112ms/step - loss: 0.2191 - accuracy: 0.9386 - val_loss: 0.2312 - val_accuracy: 0.9401\n",
      "Epoch 13/15\n",
      "981/981 [==============================] - 106s 108ms/step - loss: 0.2305 - accuracy: 0.9367 - val_loss: 0.0696 - val_accuracy: 0.9814\n",
      "Epoch 14/15\n",
      "981/981 [==============================] - 107s 109ms/step - loss: 0.1968 - accuracy: 0.9440 - val_loss: 0.0739 - val_accuracy: 0.9791\n",
      "Epoch 15/15\n",
      "981/981 [==============================] - 105s 107ms/step - loss: 0.2230 - accuracy: 0.9391 - val_loss: 0.0679 - val_accuracy: 0.9809\n"
     ]
    }
   ],
   "source": [
    "history = cnn.fit(X_train, y_train, batch_size=32, epochs=15, validation_data=(X_test, y_test))"
   ]
  },
  {
   "cell_type": "code",
   "execution_count": 13,
   "metadata": {},
   "outputs": [],
   "source": [
    "cnn.save(\"model.h5\")"
   ]
  },
  {
   "cell_type": "markdown",
   "metadata": {},
   "source": [
    "# Plotting graphs for accuracy"
   ]
  },
  {
   "cell_type": "code",
   "execution_count": 14,
   "metadata": {},
   "outputs": [
    {
     "data": {
      "image/png": "[encoded data removed]",
      "text/plain": [
       "<Figure size 432x288 with 1 Axes>"
      ]
     },
     "metadata": {
      "needs_background": "light"
     },
     "output_type": "display_data"
    }
   ],
   "source": [
    "plt.figure(0)\n",
    "plt.plot(history.history['accuracy'], label='training accuracy')\n",
    "plt.plot(history.history['val_accuracy'], label='val accuracy')\n",
    "plt.title('Accuracy')\n",
    "plt.xlabel('epochs')\n",
    "plt.ylabel('accuracy')\n",
    "plt.legend()\n",
    "plt.show()"
   ]
  },
  {
   "cell_type": "code",
   "execution_count": 15,
   "metadata": {},
   "outputs": [
    {
     "data": {
      "image/png": "[encoded data removed]",
      "text/plain": [
       "<Figure size 432x288 with 1 Axes>"
      ]
     },
     "metadata": {
      "needs_background": "light"
     },
     "output_type": "display_data"
    }
   ],
   "source": [
    "plt.figure(1)\n",
    "plt.plot(history.history['loss'], label='training loss')\n",
    "plt.plot(history.history['val_loss'], label='val loss')\n",
    "plt.title('Loss')\n",
    "plt.xlabel('epochs')\n",
    "plt.ylabel('loss')\n",
    "plt.legend()\n",
    "plt.show()"
   ]
  },
  {
   "cell_type": "markdown",
   "metadata": {},
   "source": [
    "# Testing accuracy on Test Dataset"
   ]
  },
  {
   "cell_type": "code",
   "execution_count": 19,
   "metadata": {},
   "outputs": [],
   "source": [
    "from sklearn.metrics import accuracy_score\n",
    "y_test = pd.read_csv('Test.csv')\n",
    "labels = y_test[\"ClassId\"].values\n",
    "imgs = y_test[\"Path\"].values\n",
    "data=[]\n",
    "for img in imgs:\n",
    "    image = Image.open(img)\n",
    "    image = image.resize((30,30))\n",
    "    data.append(np.array(image))\n",
    "X_test=np.array(data)\n",
    "pred = cnn.predict(X_test)"
   ]
  },
  {
   "cell_type": "code",
   "execution_count": null,
   "metadata": {},
   "outputs": [],
   "source": []
  }
 ],
 "metadata": {
  "kernelspec": {
   "display_name": "Python 3",
   "language": "python",
   "name": "python3"
  },
  "language_info": {
   "codemirror_mode": {
    "name": "ipython",
    "version": 3
   },
   "file_extension": ".py",
   "mimetype": "text/x-python",
   "name": "python",
   "nbconvert_exporter": "python",
   "pygments_lexer": "ipython3",
   "version": "3.8.5"
  }
 },
 "nbformat": 4,
 "nbformat_minor": 4
}
